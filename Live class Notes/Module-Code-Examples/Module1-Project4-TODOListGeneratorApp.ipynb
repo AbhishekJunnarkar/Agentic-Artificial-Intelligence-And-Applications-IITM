{
 "cells": [
  {
   "cell_type": "code",
   "execution_count": 1,
   "id": "14017248-f399-49f1-a00e-6be7ebebd883",
   "metadata": {},
   "outputs": [],
   "source": [
    "student_name = 'Abhishek'"
   ]
  },
  {
   "cell_type": "code",
   "execution_count": 2,
   "id": "b0c094db-0edb-46d3-850e-084acffc79be",
   "metadata": {},
   "outputs": [
    {
     "name": "stdout",
     "output_type": "stream",
     "text": [
      "abhishek\n"
     ]
    }
   ],
   "source": [
    "print(student_name.lower())"
   ]
  },
  {
   "cell_type": "code",
   "execution_count": 3,
   "id": "c96b5397-1422-4538-ac00-391c5692d3dd",
   "metadata": {},
   "outputs": [
    {
     "name": "stdout",
     "output_type": "stream",
     "text": [
      "Abhishek\n"
     ]
    }
   ],
   "source": [
    "print(student_name)"
   ]
  }
 ],
 "metadata": {
  "kernelspec": {
   "display_name": "Python 3 (ipykernel)",
   "language": "python",
   "name": "python3"
  },
  "language_info": {
   "codemirror_mode": {
    "name": "ipython",
    "version": 3
   },
   "file_extension": ".py",
   "mimetype": "text/x-python",
   "name": "python",
   "nbconvert_exporter": "python",
   "pygments_lexer": "ipython3",
   "version": "3.12.2"
  }
 },
 "nbformat": 4,
 "nbformat_minor": 5
}
