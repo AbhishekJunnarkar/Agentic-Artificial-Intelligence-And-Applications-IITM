{
 "cells": [
  {
   "cell_type": "markdown",
   "id": "9308b19b-4431-445c-ac4e-ce17d078516c",
   "metadata": {},
   "source": [
    "# Core EMI calculation function"
   ]
  },
  {
   "cell_type": "code",
   "execution_count": 12,
   "id": "0452d105-2d69-47b6-bbab-3aa394e8c948",
   "metadata": {},
   "outputs": [],
   "source": [
    "# ---------------------------------------------\n",
    "# EMI Calculator - Core Computation Function\n",
    "# ---------------------------------------------\n",
    "# This function computes:\n",
    "#   - Monthly EMI\n",
    "#   - Total payment over the tenure\n",
    "#   - Total interest paid\n",
    "#\n",
    "# Inputs:\n",
    "#   principal (float): Loan amount\n",
    "#   tenure_months (int): Loan tenure in months\n",
    "#   annual_interest_rate (float): Annual interest rate in percent (e.g., 9.5 for 9.5%)\n",
    "#\n",
    "# Formula (when monthly rate r > 0):\n",
    "#   EMI = [P * r * (1 + r)^n] / [(1 + r)^n - 1]\n",
    "# Where:\n",
    "#   P = principal\n",
    "#   r = annual_interest_rate / (12 * 100)\n",
    "#   n = tenure_months\n",
    "#\n",
    "# If interest rate is 0, EMI = P / n\n",
    "# ---------------------------------------------\n",
    "\n",
    "def calculate_emi(principal: float, tenure_months: int, annual_interest_rate: float):\n",
    "    # Basic validation for required positive values\n",
    "    if principal <= 0 or tenure_months <= 0:\n",
    "        raise ValueError(\"principal and tenure_months must be greater than 0\")\n",
    "\n",
    "    # Convert annual percentage rate to a monthly decimal rate\n",
    "    monthly_rate = (annual_interest_rate / 100.0) / 12.0\n",
    "\n",
    "    # Handle zero-interest loans separately to avoid division by zero\n",
    "    if monthly_rate == 0:\n",
    "        emi = principal / tenure_months\n",
    "    else:\n",
    "        factor = (1 + monthly_rate) ** tenure_months\n",
    "        emi = principal * monthly_rate * factor / (factor - 1)\n",
    "\n",
    "    total_payment = emi * tenure_months\n",
    "    total_interest = total_payment - principal\n",
    "\n",
    "    # Round for display; you can return unrounded values if you need exact math later\n",
    "    return round(emi, 2), round(total_payment, 2), round(total_interest, 2)\n"
   ]
  },
  {
   "cell_type": "markdown",
   "id": "42f80c6d-fb5e-434f-8dd8-08c2cdf3c2d0",
   "metadata": {},
   "source": [
    "# (Optional) Amortization schedule generator"
   ]
  },
  {
   "cell_type": "code",
   "execution_count": 16,
   "id": "39c62bf1-2157-4ed0-9025-eb1585bb517a",
   "metadata": {},
   "outputs": [],
   "source": [
    "# -------------------------------------------------------\n",
    "# Amortization Schedule (Optional but useful)\n",
    "# -------------------------------------------------------\n",
    "# Produces a month-by-month breakdown of:\n",
    "#   - EMI\n",
    "#   - Interest component\n",
    "#   - Principal component\n",
    "#   - Remaining balance\n",
    "#\n",
    "# Returns a list of dicts (easy to print or convert to DataFrame).\n",
    "# -------------------------------------------------------\n",
    "\n",
    "def amortization_schedule(principal: float, tenure_months: int, annual_interest_rate: float):\n",
    "    # Monthly rate as a decimal\n",
    "    monthly_rate = (annual_interest_rate / 100.0) / 12.0\n",
    "\n",
    "    # Get the computed EMI from the core function\n",
    "    emi, _, _ = calculate_emi(principal, tenure_months, annual_interest_rate)\n",
    "\n",
    "    balance = principal\n",
    "    schedule = []\n",
    "\n",
    "    for month in range(1, tenure_months + 1):\n",
    "        # Interest portion for the current month (zero if rate is 0)\n",
    "        interest_component = round(balance * monthly_rate, 2) if monthly_rate > 0 else 0.0\n",
    "\n",
    "        # Principal portion is the rest of the EMI after interest\n",
    "        principal_component = round(emi - interest_component, 2)\n",
    "\n",
    "        # Adjust the final month to eliminate rounding residue\n",
    "        if month == tenure_months:\n",
    "            principal_component = round(balance, 2)\n",
    "            emi_effective = round(principal_component + interest_component, 2)\n",
    "        else:\n",
    "            emi_effective = emi\n",
    "\n",
    "        # Update remaining balance\n",
    "        balance = round(balance - principal_component, 2)\n",
    "        balance = max(balance, 0.0)  # Guard against negative due to rounding\n",
    "\n",
    "        # Append a row for this month\n",
    "        schedule.append({\n",
    "            \"Month\": month,\n",
    "            \"EMI\": emi_effective,\n",
    "            \"Interest\": interest_component,\n",
    "            \"Principal\": principal_component,\n",
    "            \"Balance\": balance\n",
    "        })\n",
    "\n",
    "    return schedule\n"
   ]
  },
  {
   "cell_type": "markdown",
   "id": "8589023d-7be2-4e82-a592-2a04817cbfc3",
   "metadata": {},
   "source": [
    "# Simple currency formatting helper (optional, for nicer output)"
   ]
  },
  {
   "cell_type": "code",
   "execution_count": 15,
   "id": "51dd1a61-5f9b-409a-937a-33d98013709a",
   "metadata": {},
   "outputs": [],
   "source": [
    "# ---------------------------------------------\n",
    "# Currency formatting helper (Optional)\n",
    "# ---------------------------------------------\n",
    "# Formats numbers with commas and 2 decimals.\n",
    "# You can change the symbol if you like.\n",
    "# ---------------------------------------------\n",
    "\n",
    "def fmt_money(x, symbol=\"₹\"):\n",
    "    return f\"{symbol}{x:,.2f}\"\n"
   ]
  },
  {
   "cell_type": "markdown",
   "id": "4f3c4ba2-06c3-4dfe-b5bc-be12cb03fa7f",
   "metadata": {},
   "source": [
    "# Text interface to run inside Jupyter (input → calculation → print results)"
   ]
  },
  {
   "cell_type": "code",
   "execution_count": 14,
   "id": "0d860d24-27ed-4d50-873a-d81ecf738e59",
   "metadata": {},
   "outputs": [],
   "source": [
    "# -------------------------------------------------------\n",
    "# Text Interface - Runs cleanly inside Jupyter Notebook\n",
    "# -------------------------------------------------------\n",
    "# Prompts the user for:\n",
    "#   - Loan amount\n",
    "#   - Tenure (months)\n",
    "#   - Annual interest rate\n",
    "# Then prints:\n",
    "#   - Monthly EMI\n",
    "#   - Total Payment\n",
    "#   - Total Interest\n",
    "# Optionally offers to print a short amortization table.\n",
    "# -------------------------------------------------------\n",
    "\n",
    "def run_emi_calculator():\n",
    "    print(\"📟 Welcome to the EMI Calculator\\n\")\n",
    "\n",
    "    # Collect user input from the console\n",
    "    try:\n",
    "        principal = float(input(\"Enter loan amount (e.g., 500000): \").strip())\n",
    "        tenure_months = int(input(\"Enter loan tenure in months (e.g., 60): \").strip())\n",
    "        annual_rate = float(input(\"Enter annual interest rate in % (e.g., 9.5): \").strip())\n",
    "\n",
    "        if principal <= 0 or tenure_months <= 0:\n",
    "            print(\"\\n❌ Loan amount and tenure must be greater than 0.\")\n",
    "            return\n",
    "\n",
    "    except ValueError:\n",
    "        print(\"\\n⚠️ Invalid input. Please enter numeric values only.\")\n",
    "        return\n",
    "\n",
    "    # Compute EMI, total payment, and total interest\n",
    "    emi, total_payment, total_interest = calculate_emi(principal, tenure_months, annual_rate)\n",
    "\n",
    "    # Use currency formatter if available; else plain numbers\n",
    "    try:\n",
    "        princ_str = fmt_money(principal)\n",
    "        emi_str = fmt_money(emi)\n",
    "        tot_pay_str = fmt_money(total_payment)\n",
    "        tot_int_str = fmt_money(total_interest)\n",
    "    except NameError:\n",
    "        princ_str = f\"{principal:,.2f}\"\n",
    "        emi_str = f\"{emi:,.2f}\"\n",
    "        tot_pay_str = f\"{total_payment:,.2f}\"\n",
    "        tot_int_str = f\"{total_interest:,.2f}\"\n",
    "\n",
    "    # Display summary\n",
    "    print(\"\\n📊 EMI Calculation Results\")\n",
    "    print(\"-\" * 40)\n",
    "    print(f\"Loan Amount (Principal): {princ_str}\")\n",
    "    print(f\"Tenure (Months):        {tenure_months}\")\n",
    "    print(f\"Interest Rate (Annual): {annual_rate}%\")\n",
    "    print(\"-\" * 40)\n",
    "    print(f\"Monthly EMI:            {emi_str}\")\n",
    "    print(f\"Total Payment:          {tot_pay_str}\")\n",
    "    print(f\"Total Interest:         {tot_int_str}\")\n",
    "    print(\"-\" * 40)\n",
    "\n",
    "    # Optional: Ask to show a short amortization table\n",
    "    choice = input(\"Show first 12 rows of amortization schedule? (y/n): \").strip().lower()\n",
    "    if choice == \"y\":\n",
    "        schedule = amortization_schedule(principal, tenure_months, annual_rate)\n",
    "        print(\"\\n📅 Amortization Schedule (first 12 months)\")\n",
    "        print(\"-\" * 60)\n",
    "        print(f\"{'Month':>5} | {'EMI':>12} | {'Interest':>10} | {'Principal':>10} | {'Balance':>12}\")\n",
    "        print(\"-\" * 60)\n",
    "        for row in schedule[:12]:\n",
    "            # Format values nicely; fall back if fmt_money not defined\n",
    "            try:\n",
    "                emi_v = fmt_money(row['EMI'])\n",
    "                int_v = fmt_money(row['Interest'])\n",
    "                prin_v = fmt_money(row['Principal'])\n",
    "                bal_v = fmt_money(row['Balance'])\n",
    "            except NameError:\n",
    "                emi_v = f\"{row['EMI']:,.2f}\"\n",
    "                int_v = f\"{row['Interest']:,.2f}\"\n",
    "                prin_v = f\"{row['Principal']:,.2f}\"\n",
    "                bal_v = f\"{row['Balance']:,.2f}\"\n",
    "\n",
    "            print(f\"{row['Month']:>5} | {emi_v:>12} | {int_v:>10} | {prin_v:>10} | {bal_v:>12}\")\n",
    "\n",
    "        if len(schedule) > 12:\n",
    "            print(\"... (schedule continues)\")\n"
   ]
  },
  {
   "cell_type": "markdown",
   "id": "0e45dc1d-94de-49cb-822c-9338f4f86e94",
   "metadata": {},
   "source": [
    "# Run the text interface"
   ]
  },
  {
   "cell_type": "code",
   "execution_count": 17,
   "id": "6583ec22-8738-4c37-ab74-8d5f76a98a6e",
   "metadata": {},
   "outputs": [
    {
     "name": "stdout",
     "output_type": "stream",
     "text": [
      "📟 Welcome to the EMI Calculator\n",
      "\n"
     ]
    },
    {
     "name": "stdin",
     "output_type": "stream",
     "text": [
      "Enter loan amount (e.g., 500000):  100000\n",
      "Enter loan tenure in months (e.g., 60):  10\n",
      "Enter annual interest rate in % (e.g., 9.5):  9.5\n"
     ]
    },
    {
     "name": "stdout",
     "output_type": "stream",
     "text": [
      "\n",
      "📊 EMI Calculation Results\n",
      "----------------------------------------\n",
      "Loan Amount (Principal): ₹100,000.00\n",
      "Tenure (Months):        10\n",
      "Interest Rate (Annual): 9.5%\n",
      "----------------------------------------\n",
      "Monthly EMI:            ₹10,440.57\n",
      "Total Payment:          ₹104,405.66\n",
      "Total Interest:         ₹4,405.66\n",
      "----------------------------------------\n"
     ]
    },
    {
     "name": "stdin",
     "output_type": "stream",
     "text": [
      "Show first 12 rows of amortization schedule? (y/n):  y\n"
     ]
    },
    {
     "name": "stdout",
     "output_type": "stream",
     "text": [
      "\n",
      "📅 Amortization Schedule (first 12 months)\n",
      "------------------------------------------------------------\n",
      "Month |          EMI |   Interest |  Principal |      Balance\n",
      "------------------------------------------------------------\n",
      "    1 |   ₹10,440.57 |    ₹791.67 |  ₹9,648.90 |   ₹90,351.10\n",
      "    2 |   ₹10,440.57 |    ₹715.28 |  ₹9,725.29 |   ₹80,625.81\n",
      "    3 |   ₹10,440.57 |    ₹638.29 |  ₹9,802.28 |   ₹70,823.53\n",
      "    4 |   ₹10,440.57 |    ₹560.69 |  ₹9,879.88 |   ₹60,943.65\n",
      "    5 |   ₹10,440.57 |    ₹482.47 |  ₹9,958.10 |   ₹50,985.55\n",
      "    6 |   ₹10,440.57 |    ₹403.64 | ₹10,036.93 |   ₹40,948.62\n",
      "    7 |   ₹10,440.57 |    ₹324.18 | ₹10,116.39 |   ₹30,832.23\n",
      "    8 |   ₹10,440.57 |    ₹244.09 | ₹10,196.48 |   ₹20,635.75\n",
      "    9 |   ₹10,440.57 |    ₹163.37 | ₹10,277.20 |   ₹10,358.55\n",
      "   10 |   ₹10,440.56 |     ₹82.01 | ₹10,358.55 |        ₹0.00\n"
     ]
    }
   ],
   "source": [
    "# -----------------------------\n",
    "# Execute the text interface\n",
    "# -----------------------------\n",
    "run_emi_calculator()\n"
   ]
  }
 ],
 "metadata": {
  "kernelspec": {
   "display_name": "Python 3 (ipykernel)",
   "language": "python",
   "name": "python3"
  },
  "language_info": {
   "codemirror_mode": {
    "name": "ipython",
    "version": 3
   },
   "file_extension": ".py",
   "mimetype": "text/x-python",
   "name": "python",
   "nbconvert_exporter": "python",
   "pygments_lexer": "ipython3",
   "version": "3.12.2"
  }
 },
 "nbformat": 4,
 "nbformat_minor": 5
}
